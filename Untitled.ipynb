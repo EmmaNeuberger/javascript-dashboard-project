{
 "cells": [
  {
   "cell_type": "code",
   "execution_count": 2,
   "metadata": {},
   "outputs": [
    {
     "name": "stdout",
     "output_type": "stream",
     "text": [
      "Collecting flask_sqlalchemy\n",
      "  Downloading https://files.pythonhosted.org/packages/1e/65/226d95466c75e34e291a76890ed0e27af2e46ab913002847856f11d4d59d/Flask_SQLAlchemy-2.4.1-py2.py3-none-any.whl\n",
      "Requirement already satisfied: SQLAlchemy>=0.8.0 in c:\\users\\emmaj\\anaconda3\\lib\\site-packages (from flask_sqlalchemy) (1.3.9)\n",
      "Requirement already satisfied: Flask>=0.10 in c:\\users\\emmaj\\anaconda3\\lib\\site-packages (from flask_sqlalchemy) (1.1.1)\n",
      "Requirement already satisfied: itsdangerous>=0.24 in c:\\users\\emmaj\\anaconda3\\lib\\site-packages (from Flask>=0.10->flask_sqlalchemy) (1.1.0)\n",
      "Requirement already satisfied: Werkzeug>=0.15 in c:\\users\\emmaj\\anaconda3\\lib\\site-packages (from Flask>=0.10->flask_sqlalchemy) (0.16.0)\n",
      "Requirement already satisfied: Jinja2>=2.10.1 in c:\\users\\emmaj\\anaconda3\\lib\\site-packages (from Flask>=0.10->flask_sqlalchemy) (2.10.3)\n",
      "Requirement already satisfied: click>=5.1 in c:\\users\\emmaj\\anaconda3\\lib\\site-packages (from Flask>=0.10->flask_sqlalchemy) (7.0)\n",
      "Requirement already satisfied: MarkupSafe>=0.23 in c:\\users\\emmaj\\anaconda3\\lib\\site-packages (from Jinja2>=2.10.1->Flask>=0.10->flask_sqlalchemy) (1.1.1)\n",
      "Installing collected packages: flask-sqlalchemy\n",
      "Successfully installed flask-sqlalchemy-2.4.1\n"
     ]
    }
   ],
   "source": [
    "!pip install flask_sqlalchemy\n",
    "\n",
    "from flask import Flask\n",
    "from flask_sqlalchemy import SQLAlchemy"
   ]
  },
  {
   "cell_type": "code",
   "execution_count": null,
   "metadata": {},
   "outputs": [],
   "source": []
  }
 ],
 "metadata": {
  "kernelspec": {
   "display_name": "Python 3",
   "language": "python",
   "name": "python3"
  },
  "language_info": {
   "codemirror_mode": {
    "name": "ipython",
    "version": 3
   },
   "file_extension": ".py",
   "mimetype": "text/x-python",
   "name": "python",
   "nbconvert_exporter": "python",
   "pygments_lexer": "ipython3",
   "version": "3.7.4"
  }
 },
 "nbformat": 4,
 "nbformat_minor": 2
}
